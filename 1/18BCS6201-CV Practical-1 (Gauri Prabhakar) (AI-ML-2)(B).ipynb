{
 "cells": [
  {
   "cell_type": "markdown",
   "metadata": {},
   "source": [
    "# 18BCS6201-CV Practical-1 (Gauri Prabhakar) (AI-ML-2)(B)"
   ]
  },
  {
   "cell_type": "markdown",
   "metadata": {},
   "source": [
    "<b> Aim: Find out the frame rate of a video and print it in video using python and OpenCV.  </b>"
   ]
  },
  {
   "cell_type": "code",
   "execution_count": 2,
   "metadata": {},
   "outputs": [],
   "source": [
    "# Importing necessary modules.\n",
    "import cv2\n",
    "import time\n",
    "\n",
    "# Creating a variable to store the video using the '.VideoCapture()' function.\n",
    "video_cap = cv2.VideoCapture(r'C:\\Users\\gauri\\Desktop\\OpenCV Media\\Sand - 73847.mp4')\n",
    "\n",
    "# Initializing time that is setting up the start time.\n",
    "time_1 = time.time()\n",
    "time_2 = time.time()\n",
    "\n",
    "# Setting up the infinite while loop.\n",
    "while 1:\n",
    "\n",
    "    # Capturing the video frame by frame using the '.read()' method.\n",
    "    res, frame = video_cap.read()\n",
    "    time_3 = time.time()\n",
    "\n",
    "    # Calculating frames per second and storing it in the variable 'FPS'.\n",
    "    # FPS = 1/ (Total Time - Starting Time) that is 1/ (Total time to process the loop)\n",
    "    frames_per_sec = 1 / (time_3 - time_1)\n",
    "    time_1 = time_3\n",
    "\n",
    "    # Using '.putText' to write a string over the video, which will be the frames per second.\n",
    "    # We first pass the frame then the string (frames/sec) then the co-ordinates of the text string\n",
    "    # then the font style, scale, color and finally the thickness of the font.\n",
    "    cv2.putText(frame, f'FPS: {int(frames_per_sec)}', (20, 70), cv2.FONT_HERSHEY_COMPLEX_SMALL, 4, (0, 0, 0), 5)\n",
    "\n",
    "    # Setting up the loop.\n",
    "    if res:\n",
    "\n",
    "        # Rendering the video with effective FPS to the console by using the function '.imshow()'.\n",
    "        cv2.imshow(\"Output Video with FPS\", frame)\n",
    "\n",
    "        # Setting up '.waitkey()' to wait for a specific time until any key is pressed and break the loop.\n",
    "        # '.waitkey(1)' displays a frame for 1ms after which it moves to the next frame in the video.\n",
    "        # Setting 'x' as the quitting button.\n",
    "\n",
    "        # Note: '.waitkey(1)' returns a 32-bit integer and -1 when no input is made.\n",
    "        # Since ASCII values can go up to a maximum of 255,\n",
    "        # we perform a bitwise AND operation to achieve only the last 8 bits.\n",
    "        # '0xFF' is nothing but a hexadecimal constant having the value of 11111111 (8-bit binary).\n",
    "        # Then we compare the bit value obtained after the AND operation with the ASCII value of the quit key which is\n",
    "        # 'x' in this case. If the both are same, we break out of the loop.\n",
    "        if cv2.waitKey(1) & 0xFF == ord('x'):\n",
    "            break\n",
    "    else:\n",
    "        break\n",
    "\n",
    "# Releasing the variable/object 'video_cap'.\n",
    "video_cap.release()\n",
    "\n",
    "# Destroying all windows.\n",
    "cv2.destroyAllWindows()\n"
   ]
  },
  {
   "cell_type": "code",
   "execution_count": null,
   "metadata": {},
   "outputs": [],
   "source": []
  }
 ],
 "metadata": {
  "kernelspec": {
   "display_name": "Python 3",
   "language": "python",
   "name": "python3"
  },
  "language_info": {
   "codemirror_mode": {
    "name": "ipython",
    "version": 3
   },
   "file_extension": ".py",
   "mimetype": "text/x-python",
   "name": "python",
   "nbconvert_exporter": "python",
   "pygments_lexer": "ipython3",
   "version": "3.8.5"
  }
 },
 "nbformat": 4,
 "nbformat_minor": 4
}
