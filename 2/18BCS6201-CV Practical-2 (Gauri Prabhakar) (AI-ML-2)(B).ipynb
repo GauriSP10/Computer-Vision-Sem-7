{
 "cells": [
  {
   "cell_type": "markdown",
   "metadata": {},
   "source": [
    "# 18BCS6201-CV Practical-2 (Gauri Prabhakar) (AI-ML-2)(B)"
   ]
  },
  {
   "cell_type": "markdown",
   "metadata": {},
   "source": [
    "<b> Aim: To demonstrate the use of different image processing functions using python and OpenCv. </b>"
   ]
  },
  {
   "cell_type": "code",
   "execution_count": 1,
   "metadata": {},
   "outputs": [],
   "source": [
    "# Importing necessary modules.\n",
    "import cv2\n",
    "import numpy as np"
   ]
  },
  {
   "cell_type": "markdown",
   "metadata": {},
   "source": [
    "<b> Grayscale </b>"
   ]
  },
  {
   "cell_type": "code",
   "execution_count": 2,
   "metadata": {},
   "outputs": [],
   "source": [
    "# Converting an image to Grayscale.\n",
    "# Creating a variable to store the image using the '.imread()' function.\n",
    "image = cv2.imread(r'C:\\Users\\gauri\\Desktop\\OpenCV Media\\we bear bears.jpg')\n",
    "# Creating a variable to store the grayscale image using the function '.cvtColor()'.\n",
    "grayImage = cv2.cvtColor(image, cv2.COLOR_BGR2GRAY)\n",
    "# Returning the modified image.\n",
    "cv2.imshow('Grayscale', grayImage)\n",
    "# Setting up '.waitkey()' to wait for a specific time until any key is pressed.\n",
    "cv2.waitKey(0)\n",
    "# Destroying all windows.\n",
    "cv2.destroyAllWindows()"
   ]
  },
  {
   "cell_type": "markdown",
   "metadata": {},
   "source": [
    "<b> Edge Detection </b>"
   ]
  },
  {
   "cell_type": "code",
   "execution_count": 3,
   "metadata": {},
   "outputs": [],
   "source": [
    "# Edge Detection on an image.\n",
    "# Creating a variable to store the image using the '.imread()' function.\n",
    "img = cv2.imread(r\"C:\\Users\\gauri\\Desktop\\OpenCV Media\\we bear bears.jpg\", 0)\n",
    "# Creating a variable to store the edge detected image using the function '.Canny()'.\n",
    "edge_det = cv2.Canny(img, 100, 200)\n",
    "# Returning the modified image.\n",
    "cv2.imshow('Edge Detection', edge_det)\n",
    "# Setting up '.waitkey()' to wait for a specific time until any key is pressed.\n",
    "cv2.waitKey(0)\n",
    "# Destroying all windows.\n",
    "cv2.destroyAllWindows()"
   ]
  },
  {
   "cell_type": "markdown",
   "metadata": {},
   "source": [
    "<b> Average Blur </b>"
   ]
  },
  {
   "cell_type": "code",
   "execution_count": 4,
   "metadata": {},
   "outputs": [],
   "source": [
    "# Smoothing Techniques on an image.\n",
    "# Average Blur.\n",
    "# Creating a variable to store the image using the '.imread()' function.\n",
    "img = cv2.imread(r\"C:\\Users\\gauri\\Desktop\\OpenCV Media\\we bear bears.jpg\")\n",
    "# Creating a variable to store the average blurred image using the function '.blur()'.\n",
    "blur = cv2.blur(img, (5, 5))\n",
    "# Returning the image.\n",
    "cv2.imshow('Before Average Blur', img)\n",
    "# Returning the modified image.\n",
    "cv2.imshow('Average Blur', blur)\n",
    "# Setting up '.waitkey()' to wait for a specific time until any key is pressed.\n",
    "cv2.waitKey(0)\n",
    "# Destroying all windows.\n",
    "cv2.destroyAllWindows()"
   ]
  },
  {
   "cell_type": "markdown",
   "metadata": {},
   "source": [
    "<b> Median Blur </b>"
   ]
  },
  {
   "cell_type": "code",
   "execution_count": 5,
   "metadata": {},
   "outputs": [],
   "source": [
    "# Median Blur\n",
    "# Creating a variable to store the image using the '.imread()' function.\n",
    "img = cv2.imread(r\"C:\\Users\\gauri\\Desktop\\OpenCV Media\\we bear bears.jpg\")\n",
    "# Creating a variable to store the median blurred image using the function '.medianBlur()'.\n",
    "median_blur = cv2.medianBlur(img, 5)\n",
    "# Returning the image.\n",
    "cv2.imshow('Before Median Blur', img)\n",
    "# Returning the modified image.\n",
    "cv2.imshow('Media Blur', median_blur)\n",
    "cv2.waitKey(0)\n",
    "cv2.destroyAllWindows()"
   ]
  },
  {
   "cell_type": "markdown",
   "metadata": {},
   "source": [
    "<b> Gaussian Blur </b>"
   ]
  },
  {
   "cell_type": "code",
   "execution_count": 6,
   "metadata": {},
   "outputs": [],
   "source": [
    "# Gaussian Blur\n",
    "# Creating a variable to store the image using the '.imread()' function.\n",
    "img = cv2.imread(r\"C:\\Users\\gauri\\Desktop\\OpenCV Media\\we bear bears.jpg\")\n",
    "# Creating a variable to store the gaussian blurred image using the function '.GaussianBlur()'.\n",
    "Gaussian_blur = cv2.GaussianBlur(img, (5, 5), 0)\n",
    "# Returning the image.\n",
    "cv2.imshow('Before Gaussian Blur', img)\n",
    "# Returning the modified image.\n",
    "cv2.imshow('Gaussian Blur', median_blur)\n",
    "cv2.waitKey(0)\n",
    "cv2.destroyAllWindows()"
   ]
  },
  {
   "cell_type": "markdown",
   "metadata": {},
   "source": [
    "<b> Erosion </b>"
   ]
  },
  {
   "cell_type": "code",
   "execution_count": 7,
   "metadata": {},
   "outputs": [],
   "source": [
    "# Erosion on an image.\n",
    "# Creating a variable to store the image using the '.imread()' function.\n",
    "img = cv2.imread(r\"C:\\Users\\gauri\\Desktop\\OpenCV Media\\we bear bears.jpg\")\n",
    "# 'np.ones()' returns an array of 1's of the given shape, data type.\n",
    "kernel = np.ones((5, 5), np.uint8)\n",
    "# Creating a variable to store the eroded image using the function '.erode()'.\n",
    "img_erosion = cv2.erode(img, kernel, iterations=1)\n",
    "# Returning the image.\n",
    "cv2.imshow('Before Erosion', img)\n",
    "# Returning the modified image.\n",
    "cv2.imshow('Erosion', img_erosion)\n",
    "cv2.waitKey(0)\n",
    "cv2.destroyAllWindows()"
   ]
  },
  {
   "cell_type": "markdown",
   "metadata": {},
   "source": [
    "<b> Dilation </b>"
   ]
  },
  {
   "cell_type": "code",
   "execution_count": 8,
   "metadata": {},
   "outputs": [],
   "source": [
    "# Dilation on an image.\n",
    "# Creating a variable to store the image using the '.imread()' function.\n",
    "img = cv2.imread(r\"C:\\Users\\gauri\\Desktop\\OpenCV Media\\we bear bears.jpg\")\n",
    "# 'np.ones()' returns an array of 1's of the given shape, data type.\n",
    "kernel = np.ones((5, 5), np.uint8)\n",
    "# Creating a variable to store the dilated image using the function '.dilate()'.\n",
    "img_dilation = cv2.dilate(img, kernel, iterations=1)\n",
    "# Returning the image.\n",
    "cv2.imshow('Before Dilation', img)\n",
    "# Returning the modified image.\n",
    "cv2.imshow('Dilation', img_dilation)\n",
    "cv2.waitKey(0)\n",
    "cv2.destroyAllWindows()"
   ]
  },
  {
   "cell_type": "markdown",
   "metadata": {},
   "source": [
    "<b> Resizing and Cropping </b>"
   ]
  },
  {
   "cell_type": "code",
   "execution_count": 9,
   "metadata": {},
   "outputs": [
    {
     "name": "stdout",
     "output_type": "stream",
     "text": [
      "(410, 728, 3)\n",
      "(500, 1000, 3)\n"
     ]
    }
   ],
   "source": [
    "# Cropping and Resizing on an image.\n",
    "# Creating a variable to store the image using the '.imread()' function.\n",
    "img = cv2.imread(r\"C:\\Users\\gauri\\Desktop\\OpenCV Media\\we bear bears.jpg\")\n",
    "# Returning the shape of the image in the form of an array.\n",
    "print(img.shape)\n",
    "# Resizing the image.\n",
    "imgResize = cv2.resize(img, (1000, 500))\n",
    "# Returning the shape of the modified image.\n",
    "print(imgResize.shape)\n",
    "# Cropping the image.\n",
    "imgCropped = img[0:200, 200:500]\n",
    "# Returning the image.\n",
    "cv2.imshow(\"Before Resizing and Cropping\", img)\n",
    "# Returning the modified image.\n",
    "cv2.imshow(\"Image Resize\", imgResize)\n",
    "# Returning the modified image.\n",
    "cv2.imshow(\"Image Cropped\", imgCropped)\n",
    "cv2.waitKey(0)\n",
    "cv2.destroyAllWindows()"
   ]
  },
  {
   "cell_type": "markdown",
   "metadata": {},
   "source": [
    "<b> Shape and Text </b>"
   ]
  },
  {
   "cell_type": "code",
   "execution_count": 11,
   "metadata": {},
   "outputs": [
    {
     "name": "stdout",
     "output_type": "stream",
     "text": [
      "Before Modifications [[[0 0 0]\n",
      "  [0 0 0]\n",
      "  [0 0 0]\n",
      "  ...\n",
      "  [0 0 0]\n",
      "  [0 0 0]\n",
      "  [0 0 0]]\n",
      "\n",
      " [[0 0 0]\n",
      "  [0 0 0]\n",
      "  [0 0 0]\n",
      "  ...\n",
      "  [0 0 0]\n",
      "  [0 0 0]\n",
      "  [0 0 0]]\n",
      "\n",
      " [[0 0 0]\n",
      "  [0 0 0]\n",
      "  [0 0 0]\n",
      "  ...\n",
      "  [0 0 0]\n",
      "  [0 0 0]\n",
      "  [0 0 0]]\n",
      "\n",
      " ...\n",
      "\n",
      " [[0 0 0]\n",
      "  [0 0 0]\n",
      "  [0 0 0]\n",
      "  ...\n",
      "  [0 0 0]\n",
      "  [0 0 0]\n",
      "  [0 0 0]]\n",
      "\n",
      " [[0 0 0]\n",
      "  [0 0 0]\n",
      "  [0 0 0]\n",
      "  ...\n",
      "  [0 0 0]\n",
      "  [0 0 0]\n",
      "  [0 0 0]]\n",
      "\n",
      " [[0 0 0]\n",
      "  [0 0 0]\n",
      "  [0 0 0]\n",
      "  ...\n",
      "  [0 0 0]\n",
      "  [0 0 0]\n",
      "  [0 0 0]]]\n"
     ]
    }
   ],
   "source": [
    "# Shape and Text on an image.\n",
    "# 'np.ones()' returns an array of 1's of the given shape, data type.\n",
    "img = np.zeros((512, 512, 3), np.uint8)\n",
    "# Returning the image.\n",
    "print('Before Modifications', img)\n",
    "img[:] = 204, 204, 255\n",
    "# Drawing a line on the image, it takes parameters as image, start point, end point, color and finally thickness.\n",
    "cv2.line(img, (0, 0), (img.shape[1], img.shape[0]), (204, 0, 102), 2)\n",
    "# Drawing a rectangle on the image, it takes parameters as image, start point, end point, color and finally thickness.\n",
    "cv2.rectangle(img, (0, 0), (300, 350), (64, 64, 64), 2)\n",
    "# Drawing a circle on the image, it takes parameters as image, center co-ordinates, radius, color and finally thickness.\n",
    "cv2.circle(img, (400, 50), 30, (255, 255, 0), 5)\n",
    "# Writing a text on the image, it takes parameters as image, text, co-ordinates, font, font scale, color, thickness.\n",
    "cv2.putText(img, \"Gauri Prabhakar\", (200, 150), cv2.FONT_HERSHEY_COMPLEX_SMALL, 1, (255, 153, 51), 2)\n",
    "# Returning the modified image.\n",
    "cv2.imshow(\"Shape and Text\", img)\n",
    "cv2.waitKey(0)\n",
    "cv2.destroyAllWindows()"
   ]
  },
  {
   "cell_type": "code",
   "execution_count": null,
   "metadata": {},
   "outputs": [],
   "source": []
  }
 ],
 "metadata": {
  "kernelspec": {
   "display_name": "Python 3",
   "language": "python",
   "name": "python3"
  },
  "language_info": {
   "codemirror_mode": {
    "name": "ipython",
    "version": 3
   },
   "file_extension": ".py",
   "mimetype": "text/x-python",
   "name": "python",
   "nbconvert_exporter": "python",
   "pygments_lexer": "ipython3",
   "version": "3.8.5"
  }
 },
 "nbformat": 4,
 "nbformat_minor": 4
}
