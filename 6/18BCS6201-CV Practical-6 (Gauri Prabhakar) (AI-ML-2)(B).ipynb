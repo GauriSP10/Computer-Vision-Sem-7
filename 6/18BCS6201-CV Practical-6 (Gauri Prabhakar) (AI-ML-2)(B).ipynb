{
 "cells": [
  {
   "cell_type": "markdown",
   "id": "898194e0",
   "metadata": {},
   "source": [
    "# 18BCS6201-CV Practical-6 (Gauri Prabhakar) (AI-ML-2)(B)"
   ]
  },
  {
   "cell_type": "markdown",
   "id": "2cb556da",
   "metadata": {},
   "source": [
    "<b> Aim: To implement pose detection using mediapipe in python and OpenCV. </b>"
   ]
  },
  {
   "cell_type": "code",
   "execution_count": 3,
   "id": "43ff1f4e",
   "metadata": {},
   "outputs": [],
   "source": [
    "# Importing necessary modules.\n",
    "import cv2\n",
    "import mediapipe as mp\n",
    "\n",
    "# We will use 'drawing_utils' to draw the key points.\n",
    "mp_drawing = mp.solutions.drawing_utils\n",
    "mp_drawing_styles = mp.solutions.drawing_styles\n",
    "# Importing 'mp.solutions.pose' to a variable 'mp_pose'.\n",
    "mp_pose = mp.solutions.pose\n",
    "\n",
    "# Creating a variable to store the video using the '.VideoCapture()' function.\n",
    "cap = cv2.VideoCapture(r\"C:\\Users\\gauri\\Desktop\\OpenCV Media\\pose.mp4\")"
   ]
  },
  {
   "cell_type": "code",
   "execution_count": 4,
   "id": "b65290ff",
   "metadata": {},
   "outputs": [],
   "source": [
    "# Specifying the detection and tracking confidence uisng 'mp_pose.pose()'.\n",
    "with mp_pose.Pose(\n",
    "    min_detection_confidence=0.5, min_tracking_confidence=0.5) as pose:\n",
    "\n",
    "    # While the video is running.\n",
    "  while cap.isOpened():\n",
    "    # Capturing the video frame by frame using the '.read()' method.\n",
    "    success, image = cap.read()\n",
    "\n",
    "    # To improve performance, marking the image as not writable and passing by reference.\n",
    "    image.flags.writeable = False\n",
    "    # Reading the frames and converting them to RGB.\n",
    "    image = cv2.cvtColor(image, cv2.COLOR_BGR2RGB)\n",
    "    # Detecting poses in the frame using the function 'pose.process()'.\n",
    "    results = pose.process(image)\n",
    "\n",
    "    # Drawing the pose annotations on the image.\n",
    "    image.flags.writeable = True\n",
    "\n",
    "    # Reading the frames and converting them to RGB.\n",
    "    image = cv2.cvtColor(image, cv2.COLOR_RGB2BGR)\n",
    "\n",
    "    # Connecting the key points using the function 'mp_drawing.draw_landmarks()'.\n",
    "    mp_drawing.draw_landmarks(image, results.pose_landmarks, mp_pose.POSE_CONNECTIONS,\n",
    "                              landmark_drawing_spec=mp_drawing_styles.get_default_pose_landmarks_style())\n",
    "\n",
    "    # Rendering the video with effective Posetracking to the console by using the function '.imshow()'.\n",
    "    cv2.imshow('Detecting poses using Mediapipe', image)\n",
    "\n",
    "    # Setting up '.waitkey()' to wait for a specific time until any key is pressed and break the loop.\n",
    "    # '.waitkey(1)' displays a frame for 1ms after which it moves to the next frame in the video.\n",
    "    # Setting 'x' as the quitting button.\n",
    "    if cv2.waitKey(5) & 0xFF == ord('x'):\n",
    "      break\n",
    "\n",
    "# Releasing the variable/object 'cap'.\n",
    "cap.release()"
   ]
  },
  {
   "cell_type": "code",
   "execution_count": null,
   "id": "c0e5e294",
   "metadata": {},
   "outputs": [],
   "source": []
  }
 ],
 "metadata": {
  "kernelspec": {
   "display_name": "Python 3",
   "language": "python",
   "name": "python3"
  },
  "language_info": {
   "codemirror_mode": {
    "name": "ipython",
    "version": 3
   },
   "file_extension": ".py",
   "mimetype": "text/x-python",
   "name": "python",
   "nbconvert_exporter": "python",
   "pygments_lexer": "ipython3",
   "version": "3.8.8"
  }
 },
 "nbformat": 4,
 "nbformat_minor": 5
}
