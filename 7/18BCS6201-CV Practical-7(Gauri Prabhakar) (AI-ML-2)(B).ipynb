{
 "cells": [
  {
   "cell_type": "markdown",
   "id": "1e230a96",
   "metadata": {},
   "source": [
    "# 18BCS6201-CV Practical-7 (Gauri Prabhakar) (AI-ML-2)(B)"
   ]
  },
  {
   "cell_type": "markdown",
   "id": "f9705c84",
   "metadata": {},
   "source": [
    "<b> Aim: To implement face detection using HAAR cascades  using mediapipe in python and OpenCV. </b>"
   ]
  },
  {
   "cell_type": "code",
   "execution_count": 1,
   "id": "77e50414",
   "metadata": {},
   "outputs": [],
   "source": [
    "# Importing necessary modules.\n",
    "import cv2\n",
    "import mediapipe as mp\n",
    "# Importing 'mp.solutions.face_detection' to a variable 'mp_face_detection'.\n",
    "mp_face_detection = mp.solutions.face_detection\n",
    "# We will use 'drawing_utils' to draw the key points.\n",
    "mp_drawing = mp.solutions.drawing_utils"
   ]
  },
  {
   "cell_type": "code",
   "execution_count": 2,
   "id": "c8cdb1ec",
   "metadata": {},
   "outputs": [
    {
     "name": "stdout",
     "output_type": "stream",
     "text": [
      "[[217 204 170 170]]\n"
     ]
    }
   ],
   "source": [
    "# Importing the cascade file into the variable 'face_cascade'\n",
    "face_cascade = cv2.CascadeClassifier(r\"C:\\Users\\gauri\\Desktop\\OpenCV Media\\haarcascade_frontalface_default.xml\")\n",
    "# Importing the image into the variable 'img'.\n",
    "img = cv2.imread(r\"C:\\Users\\gauri\\Desktop\\OpenCV Media\\lena.png\")\n",
    "# Reading the image and converting it to RGB and storing it in the variable 'gray'.\n",
    "gray = cv2.cvtColor(img, cv2.COLOR_BGR2GRAY)\n",
    "# Now we find the faces in the image.\n",
    "# If faces are detected, we return the positions of detected faces as Rect(x,y,w,h).\n",
    "# Once we get these locations, we can create a ROI(Rectangular region of interest) for the face\n",
    "# and apply eye detection on this ROI (since eyes are always on the face !!! ).\n",
    "faces = face_cascade.detectMultiScale(gray, 1.3, 5)\n",
    "# Returning the co-ordinates of the ROI.\n",
    "print(faces)\n",
    "\n",
    "# Drawing a rectangle on the ROI.\n",
    "for (x,y,w,h) in faces:\n",
    "    img = cv2.rectangle(img,(x,y),(x+w,y+h),(31,79,254),2)\n",
    "\n",
    "# Rendering the video with effective Facetracking to the console by using the function '.imshow()'.\n",
    "cv2.imshow('Face Detection on Image using Mediapipe',img)\n",
    "\n",
    "# Setting up '.waitkey()' to wait for a specific time until any key is pressed and break the loop.\n",
    "cv2.waitKey(0)\n",
    "# Destroying all windows.\n",
    "cv2.destroyAllWindows()"
   ]
  },
  {
   "cell_type": "code",
   "execution_count": 3,
   "id": "73680319",
   "metadata": {},
   "outputs": [],
   "source": [
    "# Creating a variable to store the video using the '.VideoCapture()' function.\n",
    "cap = cv2.VideoCapture(r\"C:\\Users\\gauri\\Desktop\\OpenCV Media\\To Plan or Not to Plan_.mp4\")\n",
    "\n",
    "# Specifying the detection and tracking confidence uisng 'mp_pose.pose()'.\n",
    "with mp_face_detection.FaceDetection(\n",
    "    model_selection=0, min_detection_confidence=0.5) as face_detection:\n",
    "  # While the video is running.\n",
    "  while cap.isOpened():\n",
    "    # Capturing the video frame by frame using the '.read()' method.\n",
    "    success, image = cap.read()\n",
    "\n",
    "    # To improve performance, marking the image as not writable and passing by reference.\n",
    "    image.flags.writeable = False\n",
    "    # Reading the frames and converting them to RGB.\n",
    "    image = cv2.cvtColor(image, cv2.COLOR_BGR2RGB)\n",
    "    # Detecting faces in the frame using the function 'face_detection.process()'.\n",
    "    results = face_detection.process(image)\n",
    "\n",
    "    # Drawing the pose annotations on the image.\n",
    "    image.flags.writeable = True\n",
    "\n",
    "    # Reading the frames and converting them to RGB.\n",
    "    image = cv2.cvtColor(image, cv2.COLOR_RGB2BGR)\n",
    "\n",
    "    # If a face is detected we draw a rectangle on the ROI.\n",
    "    if results.detections:\n",
    "      for detection in results.detections:\n",
    "        mp_drawing.draw_detection(image, detection)\n",
    "\n",
    "    # Rendering the video with effective Facetracking to the console by using the function '.imshow()'.\n",
    "    cv2.imshow('Face Detection on Video using Mediapipe',image)\n",
    "\n",
    "    # Setting up '.waitkey()' to wait for a specific time until any key is pressed and break the loop.\n",
    "    # '.waitkey(1)' displays a frame for 1ms after which it moves to the next frame in the video.\n",
    "    # Setting 'x' as the quitting button.\n",
    "    if cv2.waitKey(5) & 0xFF == ord('x'):\n",
    "      break\n",
    "\n",
    "# Releasing the variable/object 'cap'.\n",
    "cap.release()"
   ]
  },
  {
   "cell_type": "code",
   "execution_count": null,
   "id": "1b9699d7",
   "metadata": {},
   "outputs": [],
   "source": []
  }
 ],
 "metadata": {
  "kernelspec": {
   "display_name": "Python 3",
   "language": "python",
   "name": "python3"
  },
  "language_info": {
   "codemirror_mode": {
    "name": "ipython",
    "version": 3
   },
   "file_extension": ".py",
   "mimetype": "text/x-python",
   "name": "python",
   "nbconvert_exporter": "python",
   "pygments_lexer": "ipython3",
   "version": "3.8.8"
  }
 },
 "nbformat": 4,
 "nbformat_minor": 5
}
